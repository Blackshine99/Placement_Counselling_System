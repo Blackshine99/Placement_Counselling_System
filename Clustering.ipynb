{
 "cells": [
  {
   "cell_type": "code",
   "execution_count": 1,
   "metadata": {
    "colab": {
     "base_uri": "https://localhost:8080/"
    },
    "id": "uZjL9-hbw0_3",
    "outputId": "66d91954-0bfa-4da7-c5ae-4c2899c5ffb4"
   },
   "outputs": [],
   "source": [
    "# from google.colab import drive\n",
    "# drive.mount('/gdrive')\n",
    "# %cd /gdrive"
   ]
  },
  {
   "cell_type": "markdown",
   "metadata": {
    "id": "XOOEBXwFx4Jv"
   },
   "source": [
    "# Importing the data and necessary libraries"
   ]
  },
  {
   "cell_type": "code",
   "execution_count": 3,
   "metadata": {
    "id": "Iy7PHvVGxFML"
   },
   "outputs": [],
   "source": [
    "import pandas as pd\n",
    "import numpy as np\n",
    "import matplotlib.pyplot as plt\n",
    "from sklearn.cluster import KMeans\n",
    "import seaborn as sns; sns.set()"
   ]
  },
  {
   "cell_type": "code",
   "execution_count": 4,
   "metadata": {
    "colab": {
     "base_uri": "https://localhost:8080/",
     "height": 207
    },
    "id": "sd-CYKdvw2Eh",
    "outputId": "65514861-a71f-4431-fe48-29d28252de22",
    "scrolled": true
   },
   "outputs": [
    {
     "data": {
      "text/html": [
       "<div>\n",
       "<style scoped>\n",
       "    .dataframe tbody tr th:only-of-type {\n",
       "        vertical-align: middle;\n",
       "    }\n",
       "\n",
       "    .dataframe tbody tr th {\n",
       "        vertical-align: top;\n",
       "    }\n",
       "\n",
       "    .dataframe thead th {\n",
       "        text-align: right;\n",
       "    }\n",
       "</style>\n",
       "<table border=\"1\" class=\"dataframe\">\n",
       "  <thead>\n",
       "    <tr style=\"text-align: right;\">\n",
       "      <th></th>\n",
       "      <th>Job Title</th>\n",
       "      <th>Company Name</th>\n",
       "      <th>Industry</th>\n",
       "      <th>Company Location</th>\n",
       "      <th>New Job (90 Days)</th>\n",
       "      <th>Year Started</th>\n",
       "      <th>Profile Headline</th>\n",
       "      <th>Profile Summary</th>\n",
       "      <th>School</th>\n",
       "      <th>Degree</th>\n",
       "      <th>...</th>\n",
       "      <th>Degree_embedding</th>\n",
       "      <th>Education End_embedding</th>\n",
       "      <th>Field of Study_embedding</th>\n",
       "      <th>Domain_embedding</th>\n",
       "      <th>CompanyName_embedding</th>\n",
       "      <th>JobTitle_embedding</th>\n",
       "      <th>My Network_embedding</th>\n",
       "      <th>Country_embedding</th>\n",
       "      <th>Continent_embedding</th>\n",
       "      <th>FieldOfStudy_embedding</th>\n",
       "    </tr>\n",
       "  </thead>\n",
       "  <tbody>\n",
       "    <tr>\n",
       "      <th>0</th>\n",
       "      <td>Battery Designer</td>\n",
       "      <td>Rivian</td>\n",
       "      <td>Mechanical or Industrial Engineering</td>\n",
       "      <td>Dublin, Ohio, United States</td>\n",
       "      <td>False</td>\n",
       "      <td>2020.0</td>\n",
       "      <td>Mechanical Design Engineer, System Integration...</td>\n",
       "      <td>In the ever-growing technological world where ...</td>\n",
       "      <td>Chalmers University of Technology</td>\n",
       "      <td>pg</td>\n",
       "      <td>...</td>\n",
       "      <td>-0.616228</td>\n",
       "      <td>-0.534899</td>\n",
       "      <td>0.078564</td>\n",
       "      <td>0.195954</td>\n",
       "      <td>0.388687</td>\n",
       "      <td>0.142881</td>\n",
       "      <td>-0.345625</td>\n",
       "      <td>0.217775</td>\n",
       "      <td>0.208209</td>\n",
       "      <td>0.661440</td>\n",
       "    </tr>\n",
       "    <tr>\n",
       "      <th>1</th>\n",
       "      <td>Digital DevOps Engineer</td>\n",
       "      <td>HSBC</td>\n",
       "      <td>Information Technology and Services</td>\n",
       "      <td>New York City Metropolitan Area</td>\n",
       "      <td>False</td>\n",
       "      <td>2018.0</td>\n",
       "      <td>Digital DevOps Engineer at HSBC</td>\n",
       "      <td>AWS Certified Cloud Engineer holding 3 AWS Ass...</td>\n",
       "      <td>Binghamton University</td>\n",
       "      <td>pg</td>\n",
       "      <td>...</td>\n",
       "      <td>-0.616228</td>\n",
       "      <td>-0.534899</td>\n",
       "      <td>-0.594768</td>\n",
       "      <td>0.195954</td>\n",
       "      <td>0.297323</td>\n",
       "      <td>0.092447</td>\n",
       "      <td>-0.345625</td>\n",
       "      <td>0.217775</td>\n",
       "      <td>0.208209</td>\n",
       "      <td>-0.594768</td>\n",
       "    </tr>\n",
       "    <tr>\n",
       "      <th>2</th>\n",
       "      <td>Product Designer</td>\n",
       "      <td>Two Point Conversions, Inc.</td>\n",
       "      <td>Information Technology and Services</td>\n",
       "      <td>Chicago, Illinois, United States</td>\n",
       "      <td>False</td>\n",
       "      <td>2018.0</td>\n",
       "      <td>Leading Product + UX at Remedy (Two Point Conv...</td>\n",
       "      <td>http://aroonmathai.com</td>\n",
       "      <td>Carnegie Mellon University</td>\n",
       "      <td>pg</td>\n",
       "      <td>...</td>\n",
       "      <td>-0.616228</td>\n",
       "      <td>-0.534899</td>\n",
       "      <td>0.145754</td>\n",
       "      <td>0.195954</td>\n",
       "      <td>-0.190701</td>\n",
       "      <td>0.142881</td>\n",
       "      <td>-0.345625</td>\n",
       "      <td>0.217775</td>\n",
       "      <td>0.208209</td>\n",
       "      <td>-0.594768</td>\n",
       "    </tr>\n",
       "    <tr>\n",
       "      <th>3</th>\n",
       "      <td>Product Designer</td>\n",
       "      <td>udaan.com</td>\n",
       "      <td>Information Technology and Services</td>\n",
       "      <td>Bangalore Urban, Karnataka, India</td>\n",
       "      <td>False</td>\n",
       "      <td>2018.0</td>\n",
       "      <td>Product Designer at udaan</td>\n",
       "      <td>NaN</td>\n",
       "      <td>Vellore Institute of Technology</td>\n",
       "      <td>ug</td>\n",
       "      <td>...</td>\n",
       "      <td>-0.128450</td>\n",
       "      <td>-0.534899</td>\n",
       "      <td>-0.226775</td>\n",
       "      <td>0.195954</td>\n",
       "      <td>0.143441</td>\n",
       "      <td>0.142881</td>\n",
       "      <td>-0.345625</td>\n",
       "      <td>-0.156677</td>\n",
       "      <td>-0.227953</td>\n",
       "      <td>-0.594768</td>\n",
       "    </tr>\n",
       "    <tr>\n",
       "      <th>4</th>\n",
       "      <td>Digital Technology Intern</td>\n",
       "      <td>GE</td>\n",
       "      <td>Information Technology and Services</td>\n",
       "      <td>Jaipur, Rajasthan, India</td>\n",
       "      <td>True</td>\n",
       "      <td>2021.0</td>\n",
       "      <td>Digital Technology Intern at General Electric ...</td>\n",
       "      <td>NaN</td>\n",
       "      <td>Vellore Institute of Technology</td>\n",
       "      <td>ug</td>\n",
       "      <td>...</td>\n",
       "      <td>-0.128450</td>\n",
       "      <td>-0.515048</td>\n",
       "      <td>-0.226775</td>\n",
       "      <td>0.195954</td>\n",
       "      <td>-0.285993</td>\n",
       "      <td>-0.308086</td>\n",
       "      <td>-0.345625</td>\n",
       "      <td>-0.156677</td>\n",
       "      <td>-0.227953</td>\n",
       "      <td>-0.594768</td>\n",
       "    </tr>\n",
       "  </tbody>\n",
       "</table>\n",
       "<p>5 rows × 36 columns</p>\n",
       "</div>"
      ],
      "text/plain": [
       "                   Job Title                 Company Name  \\\n",
       "0           Battery Designer                       Rivian   \n",
       "1    Digital DevOps Engineer                         HSBC   \n",
       "2           Product Designer  Two Point Conversions, Inc.   \n",
       "3           Product Designer                    udaan.com   \n",
       "4  Digital Technology Intern                           GE   \n",
       "\n",
       "                               Industry                   Company Location  \\\n",
       "0  Mechanical or Industrial Engineering        Dublin, Ohio, United States   \n",
       "1   Information Technology and Services    New York City Metropolitan Area   \n",
       "2   Information Technology and Services   Chicago, Illinois, United States   \n",
       "3   Information Technology and Services  Bangalore Urban, Karnataka, India   \n",
       "4   Information Technology and Services           Jaipur, Rajasthan, India   \n",
       "\n",
       "   New Job (90 Days)  Year Started  \\\n",
       "0              False        2020.0   \n",
       "1              False        2018.0   \n",
       "2              False        2018.0   \n",
       "3              False        2018.0   \n",
       "4               True        2021.0   \n",
       "\n",
       "                                    Profile Headline  \\\n",
       "0  Mechanical Design Engineer, System Integration...   \n",
       "1                    Digital DevOps Engineer at HSBC   \n",
       "2  Leading Product + UX at Remedy (Two Point Conv...   \n",
       "3                          Product Designer at udaan   \n",
       "4  Digital Technology Intern at General Electric ...   \n",
       "\n",
       "                                     Profile Summary  \\\n",
       "0  In the ever-growing technological world where ...   \n",
       "1  AWS Certified Cloud Engineer holding 3 AWS Ass...   \n",
       "2                             http://aroonmathai.com   \n",
       "3                                                NaN   \n",
       "4                                                NaN   \n",
       "\n",
       "                              School Degree  ... Degree_embedding  \\\n",
       "0  Chalmers University of Technology     pg  ...        -0.616228   \n",
       "1              Binghamton University     pg  ...        -0.616228   \n",
       "2         Carnegie Mellon University     pg  ...        -0.616228   \n",
       "3    Vellore Institute of Technology     ug  ...        -0.128450   \n",
       "4    Vellore Institute of Technology     ug  ...        -0.128450   \n",
       "\n",
       "  Education End_embedding Field of Study_embedding Domain_embedding  \\\n",
       "0               -0.534899                 0.078564         0.195954   \n",
       "1               -0.534899                -0.594768         0.195954   \n",
       "2               -0.534899                 0.145754         0.195954   \n",
       "3               -0.534899                -0.226775         0.195954   \n",
       "4               -0.515048                -0.226775         0.195954   \n",
       "\n",
       "  CompanyName_embedding JobTitle_embedding My Network_embedding  \\\n",
       "0              0.388687           0.142881            -0.345625   \n",
       "1              0.297323           0.092447            -0.345625   \n",
       "2             -0.190701           0.142881            -0.345625   \n",
       "3              0.143441           0.142881            -0.345625   \n",
       "4             -0.285993          -0.308086            -0.345625   \n",
       "\n",
       "  Country_embedding Continent_embedding  FieldOfStudy_embedding  \n",
       "0          0.217775            0.208209                0.661440  \n",
       "1          0.217775            0.208209               -0.594768  \n",
       "2          0.217775            0.208209               -0.594768  \n",
       "3         -0.156677           -0.227953               -0.594768  \n",
       "4         -0.156677           -0.227953               -0.594768  \n",
       "\n",
       "[5 rows x 36 columns]"
      ]
     },
     "execution_count": 4,
     "metadata": {},
     "output_type": "execute_result"
    }
   ],
   "source": [
    "path = 'After_BERT(Embedded_Data).csv'\n",
    "df = pd.read_csv(path, index_col = 0)\n",
    "df.head()"
   ]
  },
  {
   "cell_type": "code",
   "execution_count": 61,
   "metadata": {},
   "outputs": [
    {
     "name": "stdout",
     "output_type": "stream",
     "text": [
      "<class 'pandas.core.frame.DataFrame'>\n",
      "Int64Index: 4910 entries, 0 to 4909\n",
      "Data columns (total 36 columns):\n",
      " #   Column                      Non-Null Count  Dtype  \n",
      "---  ------                      --------------  -----  \n",
      " 0   Job Title                   4898 non-null   object \n",
      " 1   Company Name                4892 non-null   object \n",
      " 2   Industry                    4910 non-null   object \n",
      " 3   Company Location            4910 non-null   object \n",
      " 4   New Job (90 Days)           4910 non-null   bool   \n",
      " 5   Year Started                4910 non-null   float64\n",
      " 6   Profile Headline            4910 non-null   object \n",
      " 7   Profile Summary             3465 non-null   object \n",
      " 8   School                      4658 non-null   object \n",
      " 9   Degree                      4910 non-null   object \n",
      " 10  Education End               4910 non-null   object \n",
      " 11  Field of Study              4532 non-null   object \n",
      " 12  Domain                      4910 non-null   object \n",
      " 13  CompanyName                 4910 non-null   object \n",
      " 14  JobTitle                    4910 non-null   object \n",
      " 15  My Network                  4910 non-null   object \n",
      " 16  Country                     4910 non-null   object \n",
      " 17  Continent                   4412 non-null   object \n",
      " 18  FieldOfStudy                4910 non-null   object \n",
      " 19  Job Title_embedding         4910 non-null   float64\n",
      " 20  Company Name_embedding      4910 non-null   float64\n",
      " 21  Industry_embedding          4910 non-null   float64\n",
      " 22  Company Location_embedding  4910 non-null   float64\n",
      " 23  Profile Headline_embedding  4910 non-null   float64\n",
      " 24  Profile Summary_embedding   4910 non-null   float64\n",
      " 25  School_embedding            4910 non-null   float64\n",
      " 26  Degree_embedding            4910 non-null   float64\n",
      " 27  Education End_embedding     4910 non-null   float64\n",
      " 28  Field of Study_embedding    4910 non-null   float64\n",
      " 29  Domain_embedding            4910 non-null   float64\n",
      " 30  CompanyName_embedding       4910 non-null   float64\n",
      " 31  JobTitle_embedding          4910 non-null   float64\n",
      " 32  My Network_embedding        4910 non-null   float64\n",
      " 33  Country_embedding           4910 non-null   float64\n",
      " 34  Continent_embedding         4910 non-null   float64\n",
      " 35  FieldOfStudy_embedding      4910 non-null   float64\n",
      "dtypes: bool(1), float64(18), object(17)\n",
      "memory usage: 1.4+ MB\n"
     ]
    }
   ],
   "source": [
    "df.info()"
   ]
  },
  {
   "cell_type": "code",
   "execution_count": 69,
   "metadata": {},
   "outputs": [],
   "source": [
    "df1 = df[['New Job (90 Days)', 'Year Started', 'Job Title_embedding',\n",
    "          'Company Location_embedding',\n",
    "          'Company Name_embedding', 'Industry_embedding',  \n",
    "          'Profile Headline_embedding', 'Profile Summary_embedding', \n",
    "          'School_embedding', 'Degree_embedding',\n",
    "       'Education End_embedding', 'Field of Study_embedding',\n",
    "       'Domain_embedding', 'CompanyName_embedding', 'FieldOfStudy_embedding']]"
   ]
  },
  {
   "cell_type": "markdown",
   "metadata": {
    "id": "4-cKIoFmxyxv"
   },
   "source": [
    "# Using Elbow Method to determine the best value of k in KMeans clustering"
   ]
  },
  {
   "cell_type": "code",
   "execution_count": 73,
   "metadata": {
    "colab": {
     "base_uri": "https://localhost:8080/",
     "height": 417
    },
    "id": "d855k6f5xI2y",
    "outputId": "1e0648fa-408f-46a0-b867-6b1c45ae6198"
   },
   "outputs": [
    {
     "data": {
      "image/png": "[encoded data removed]",
      "text/plain": [
       "<Figure size 1080x432 with 1 Axes>"
      ]
     },
     "metadata": {},
     "output_type": "display_data"
    }
   ],
   "source": [
    "sse = []\n",
    "K = range(1,20)\n",
    "for k in K:\n",
    "    kmeanModel = KMeans(n_clusters=k)\n",
    "    kmeanModel.fit(df1)\n",
    "    sse.append(kmeanModel.inertia_)\n",
    "plt.figure(figsize=(15,6))\n",
    "plt.plot(K, sse, 'bx-')\n",
    "plt.xlabel('Number of Clusters (k)', fontsize = 15)\n",
    "plt.ylabel('Sum of Squared Error', fontsize = 15)\n",
    "plt.title('The Elbow Method showing the optimal k', fontsize = 20)\n",
    "plt.show()"
   ]
  },
  {
   "cell_type": "markdown",
   "metadata": {
    "id": "RjJwtATExtHq"
   },
   "source": [
    "We use k = 3. k=2 and k=4 can also give good results. However, increasing the value above 3 will not give an increase in performance"
   ]
  },
  {
   "cell_type": "code",
   "execution_count": 74,
   "metadata": {},
   "outputs": [
    {
     "data": {
      "text/plain": [
       "GaussianMixture(n_components=2)"
      ]
     },
     "execution_count": 74,
     "metadata": {},
     "output_type": "execute_result"
    }
   ],
   "source": [
    "gmm = GaussianMixture(n_components = 2) \n",
    "gmm.fit(df1)"
   ]
  },
  {
   "cell_type": "markdown",
   "metadata": {
    "id": "tidjH63SySF_"
   },
   "source": [
    "# Using Silhouette Score as Evaluation Metric for KMeans"
   ]
  },
  {
   "cell_type": "code",
   "execution_count": 77,
   "metadata": {
    "colab": {
     "base_uri": "https://localhost:8080/"
    },
    "id": "WALFHBVmxoYL",
    "outputId": "dea75a45-29e3-4259-8786-40b197d7caa1"
   },
   "outputs": [
    {
     "name": "stderr",
     "output_type": "stream",
     "text": [
      "<ipython-input-77-bf168e7f8e8b>:3: SettingWithCopyWarning: \n",
      "A value is trying to be set on a copy of a slice from a DataFrame.\n",
      "Try using .loc[row_indexer,col_indexer] = value instead\n",
      "\n",
      "See the caveats in the documentation: https://pandas.pydata.org/pandas-docs/stable/user_guide/indexing.html#returning-a-view-versus-a-copy\n",
      "  df1['cluster_label'] = 0\n"
     ]
    },
    {
     "name": "stdout",
     "output_type": "stream",
     "text": [
      "Clusters\tSilhoutte Score\n",
      "\n",
      "k = 2 \t--> \t0.9982621408384088\n",
      "k = 3 \t--> \t0.6686929080074914\n",
      "k = 4 \t--> \t0.5310162990835897\n",
      "k = 5 \t--> \t0.40979793406619247\n",
      "k = 6 \t--> \t0.2773373412499584\n",
      "k = 7 \t--> \t0.21683287632903428\n",
      "k = 8 \t--> \t0.23899709240257308\n",
      "k = 9 \t--> \t0.2305796334349628\n",
      "k = 10 \t--> \t0.22793967240314458\n",
      "k = 11 \t--> \t0.21501050596408247\n",
      "k = 12 \t--> \t0.19748127069380983\n",
      "k = 13 \t--> \t0.19419748049419383\n",
      "k = 14 \t--> \t0.19190556098622052\n",
      "k = 15 \t--> \t0.1827302983141814\n",
      "k = 16 \t--> \t0.17957892825220312\n",
      "k = 17 \t--> \t0.17955074534740767\n",
      "k = 18 \t--> \t0.17510969329024628\n",
      "k = 19 \t--> \t0.17194252717143504\n"
     ]
    }
   ],
   "source": [
    "from sklearn.metrics import silhouette_score\n",
    "\n",
    "df1['cluster_label'] = 0\n",
    "X = df1\n",
    "y = df1['cluster_label']\n",
    "print(\"Clusters\\tSilhoutte Score\\n\")\n",
    "for n_cluster in range(2, 20):\n",
    "    kmeans = KMeans(n_clusters=n_cluster).fit(X)\n",
    "    label = kmeans.labels_\n",
    "    sil_coeff = silhouette_score(X, label, metric='euclidean')\n",
    "    print(\"k = {} \\t--> \\t{}\".format(n_cluster, sil_coeff))"
   ]
  },
  {
   "cell_type": "markdown",
   "metadata": {
    "id": "pvKuaguuzD5E"
   },
   "source": [
    "These scores show that using k=3 and k=4 give really good results, while k=2 is also a good option. We choose k=3. "
   ]
  },
  {
   "cell_type": "markdown",
   "metadata": {
    "id": "p74MKXrJzdKa"
   },
   "source": [
    "# Applying KMeans (k=3)"
   ]
  },
  {
   "cell_type": "code",
   "execution_count": 78,
   "metadata": {
    "id": "Ts62iYrTzC7G"
   },
   "outputs": [],
   "source": [
    "kmeans = KMeans(n_clusters = 2, init ='k-means++', verbose = 1)"
   ]
  },
  {
   "cell_type": "code",
   "execution_count": 80,
   "metadata": {
    "colab": {
     "base_uri": "https://localhost:8080/"
    },
    "id": "sZy-YVxYy5wf",
    "outputId": "8b537f3d-0c64-49b4-aaf2-b0f0bbd13914"
   },
   "outputs": [
    {
     "name": "stdout",
     "output_type": "stream",
     "text": [
      "Initialization complete\n",
      "Iteration 0, inertia 60963.65901910502\n",
      "Iteration 1, inertia 55698.669197913405\n",
      "Converged at iteration 1: strict convergence.\n",
      "Initialization complete\n",
      "Iteration 0, inertia 68987.60629173659\n",
      "Iteration 1, inertia 55698.669197913354\n",
      "Converged at iteration 1: strict convergence.\n",
      "Initialization complete\n",
      "Iteration 0, inertia 71955.20790364667\n",
      "Iteration 1, inertia 55698.6691979134\n",
      "Converged at iteration 1: strict convergence.\n",
      "Initialization complete\n",
      "Iteration 0, inertia 97502.41763594022\n",
      "Iteration 1, inertia 55698.6691979134\n",
      "Converged at iteration 1: strict convergence.\n",
      "Initialization complete\n",
      "Iteration 0, inertia 71796.16894192169\n",
      "Iteration 1, inertia 55698.669197913405\n",
      "Converged at iteration 1: strict convergence.\n",
      "Initialization complete\n",
      "Iteration 0, inertia 90969.4271796026\n",
      "Iteration 1, inertia 55698.669197913405\n",
      "Converged at iteration 1: strict convergence.\n",
      "Initialization complete\n",
      "Iteration 0, inertia 62212.98202711835\n",
      "Iteration 1, inertia 55698.6691979134\n",
      "Converged at iteration 1: strict convergence.\n",
      "Initialization complete\n",
      "Iteration 0, inertia 71450.36430088959\n",
      "Iteration 1, inertia 55698.6691979134\n",
      "Converged at iteration 1: strict convergence.\n",
      "Initialization complete\n",
      "Iteration 0, inertia 79352.5622176803\n",
      "Iteration 1, inertia 55698.6691979134\n",
      "Converged at iteration 1: strict convergence.\n",
      "Initialization complete\n",
      "Iteration 0, inertia 69296.9422861569\n",
      "Iteration 1, inertia 55698.669197913405\n",
      "Converged at iteration 1: strict convergence.\n"
     ]
    },
    {
     "data": {
      "text/plain": [
       "KMeans(n_clusters=2, verbose=1)"
      ]
     },
     "execution_count": 80,
     "metadata": {},
     "output_type": "execute_result"
    }
   ],
   "source": [
    "kmeans.fit(df1)"
   ]
  },
  {
   "cell_type": "code",
   "execution_count": 81,
   "metadata": {
    "colab": {
     "base_uri": "https://localhost:8080/"
    },
    "id": "vfpRgX5i0A6R",
    "outputId": "e08c0802-2625-4759-ce5c-177a3f47ad9e"
   },
   "outputs": [
    {
     "name": "stdout",
     "output_type": "stream",
     "text": [
      "Initialization complete\n",
      "Iteration 0, inertia 61800.73494251458\n",
      "Iteration 1, inertia 55698.669197913354\n",
      "Converged at iteration 1: strict convergence.\n",
      "Initialization complete\n",
      "Iteration 0, inertia 65167.18623953526\n",
      "Iteration 1, inertia 55698.669197913354\n",
      "Converged at iteration 1: strict convergence.\n",
      "Initialization complete\n",
      "Iteration 0, inertia 67283.96384948347\n",
      "Iteration 1, inertia 55698.6691979134\n",
      "Converged at iteration 1: strict convergence.\n",
      "Initialization complete\n",
      "Iteration 0, inertia 127821.1946805892\n",
      "Iteration 1, inertia 55698.669197913405\n",
      "Converged at iteration 1: strict convergence.\n",
      "Initialization complete\n",
      "Iteration 0, inertia 70913.99388953473\n",
      "Iteration 1, inertia 55698.6691979134\n",
      "Converged at iteration 1: strict convergence.\n",
      "Initialization complete\n",
      "Iteration 0, inertia 168467.16824648526\n",
      "Iteration 1, inertia 55698.6691979134\n",
      "Converged at iteration 1: strict convergence.\n",
      "Initialization complete\n",
      "Iteration 0, inertia 68530.23892719329\n",
      "Iteration 1, inertia 55698.6691979134\n",
      "Converged at iteration 1: strict convergence.\n",
      "Initialization complete\n",
      "Iteration 0, inertia 68534.05536657605\n",
      "Iteration 1, inertia 55698.669197913405\n",
      "Converged at iteration 1: strict convergence.\n",
      "Initialization complete\n",
      "Iteration 0, inertia 74435.95799957417\n",
      "Iteration 1, inertia 55698.669197913405\n",
      "Converged at iteration 1: strict convergence.\n",
      "Initialization complete\n",
      "Iteration 0, inertia 65749.12032189526\n",
      "Iteration 1, inertia 55698.669197913405\n",
      "Converged at iteration 1: strict convergence.\n"
     ]
    },
    {
     "name": "stderr",
     "output_type": "stream",
     "text": [
      "<ipython-input-81-ea5cefc4b2a7>:1: SettingWithCopyWarning: \n",
      "A value is trying to be set on a copy of a slice from a DataFrame.\n",
      "Try using .loc[row_indexer,col_indexer] = value instead\n",
      "\n",
      "See the caveats in the documentation: https://pandas.pydata.org/pandas-docs/stable/user_guide/indexing.html#returning-a-view-versus-a-copy\n",
      "  df1['cluster_label'] = kmeans.fit_predict(df1)\n"
     ]
    }
   ],
   "source": [
    "df1['cluster_label'] = kmeans.fit_predict(df1)"
   ]
  },
  {
   "cell_type": "code",
   "execution_count": 82,
   "metadata": {
    "colab": {
     "base_uri": "https://localhost:8080/",
     "height": 351
    },
    "id": "OHtdeZ8n0ExG",
    "outputId": "c5900896-2208-45af-b508-a596a8088ca7"
   },
   "outputs": [
    {
     "data": {
      "text/html": [
       "<div>\n",
       "<style scoped>\n",
       "    .dataframe tbody tr th:only-of-type {\n",
       "        vertical-align: middle;\n",
       "    }\n",
       "\n",
       "    .dataframe tbody tr th {\n",
       "        vertical-align: top;\n",
       "    }\n",
       "\n",
       "    .dataframe thead th {\n",
       "        text-align: right;\n",
       "    }\n",
       "</style>\n",
       "<table border=\"1\" class=\"dataframe\">\n",
       "  <thead>\n",
       "    <tr style=\"text-align: right;\">\n",
       "      <th></th>\n",
       "      <th>New Job (90 Days)</th>\n",
       "      <th>Year Started</th>\n",
       "      <th>Job Title_embedding</th>\n",
       "      <th>Company Location_embedding</th>\n",
       "      <th>Company Name_embedding</th>\n",
       "      <th>Industry_embedding</th>\n",
       "      <th>Profile Headline_embedding</th>\n",
       "      <th>Profile Summary_embedding</th>\n",
       "      <th>School_embedding</th>\n",
       "      <th>Degree_embedding</th>\n",
       "      <th>Education End_embedding</th>\n",
       "      <th>Field of Study_embedding</th>\n",
       "      <th>Domain_embedding</th>\n",
       "      <th>CompanyName_embedding</th>\n",
       "      <th>FieldOfStudy_embedding</th>\n",
       "      <th>cluster_label</th>\n",
       "    </tr>\n",
       "  </thead>\n",
       "  <tbody>\n",
       "    <tr>\n",
       "      <th>0</th>\n",
       "      <td>False</td>\n",
       "      <td>2020.0</td>\n",
       "      <td>0.779540</td>\n",
       "      <td>-1.265540</td>\n",
       "      <td>0.388687</td>\n",
       "      <td>0.551558</td>\n",
       "      <td>0.568144</td>\n",
       "      <td>-0.359584</td>\n",
       "      <td>0.569816</td>\n",
       "      <td>-0.616228</td>\n",
       "      <td>-0.534899</td>\n",
       "      <td>0.078564</td>\n",
       "      <td>0.195954</td>\n",
       "      <td>0.388687</td>\n",
       "      <td>0.661440</td>\n",
       "      <td>0</td>\n",
       "    </tr>\n",
       "    <tr>\n",
       "      <th>1</th>\n",
       "      <td>False</td>\n",
       "      <td>2018.0</td>\n",
       "      <td>0.226097</td>\n",
       "      <td>0.386156</td>\n",
       "      <td>0.297323</td>\n",
       "      <td>-0.245237</td>\n",
       "      <td>0.432931</td>\n",
       "      <td>-0.648065</td>\n",
       "      <td>0.259484</td>\n",
       "      <td>-0.616228</td>\n",
       "      <td>-0.534899</td>\n",
       "      <td>-0.594768</td>\n",
       "      <td>0.195954</td>\n",
       "      <td>0.297323</td>\n",
       "      <td>-0.594768</td>\n",
       "      <td>0</td>\n",
       "    </tr>\n",
       "    <tr>\n",
       "      <th>2</th>\n",
       "      <td>False</td>\n",
       "      <td>2018.0</td>\n",
       "      <td>0.319102</td>\n",
       "      <td>0.064967</td>\n",
       "      <td>-0.190701</td>\n",
       "      <td>-0.245237</td>\n",
       "      <td>-0.202704</td>\n",
       "      <td>0.334044</td>\n",
       "      <td>-0.367105</td>\n",
       "      <td>-0.616228</td>\n",
       "      <td>-0.534899</td>\n",
       "      <td>0.145754</td>\n",
       "      <td>0.195954</td>\n",
       "      <td>-0.190701</td>\n",
       "      <td>-0.594768</td>\n",
       "      <td>0</td>\n",
       "    </tr>\n",
       "    <tr>\n",
       "      <th>3</th>\n",
       "      <td>False</td>\n",
       "      <td>2018.0</td>\n",
       "      <td>0.319102</td>\n",
       "      <td>0.411865</td>\n",
       "      <td>0.143441</td>\n",
       "      <td>-0.245237</td>\n",
       "      <td>0.255732</td>\n",
       "      <td>0.006889</td>\n",
       "      <td>0.751344</td>\n",
       "      <td>-0.128450</td>\n",
       "      <td>-0.534899</td>\n",
       "      <td>-0.226775</td>\n",
       "      <td>0.195954</td>\n",
       "      <td>0.143441</td>\n",
       "      <td>-0.594768</td>\n",
       "      <td>0</td>\n",
       "    </tr>\n",
       "    <tr>\n",
       "      <th>4</th>\n",
       "      <td>True</td>\n",
       "      <td>2021.0</td>\n",
       "      <td>0.045442</td>\n",
       "      <td>0.626538</td>\n",
       "      <td>-0.285993</td>\n",
       "      <td>-0.245237</td>\n",
       "      <td>0.360941</td>\n",
       "      <td>0.006889</td>\n",
       "      <td>0.751344</td>\n",
       "      <td>-0.128450</td>\n",
       "      <td>-0.515048</td>\n",
       "      <td>-0.226775</td>\n",
       "      <td>0.195954</td>\n",
       "      <td>-0.285993</td>\n",
       "      <td>-0.594768</td>\n",
       "      <td>0</td>\n",
       "    </tr>\n",
       "    <tr>\n",
       "      <th>5</th>\n",
       "      <td>True</td>\n",
       "      <td>2021.0</td>\n",
       "      <td>0.319102</td>\n",
       "      <td>0.201492</td>\n",
       "      <td>0.012700</td>\n",
       "      <td>-0.245237</td>\n",
       "      <td>-0.051596</td>\n",
       "      <td>-0.122784</td>\n",
       "      <td>0.416576</td>\n",
       "      <td>-0.128450</td>\n",
       "      <td>-0.515048</td>\n",
       "      <td>0.658242</td>\n",
       "      <td>0.195954</td>\n",
       "      <td>0.012700</td>\n",
       "      <td>0.661440</td>\n",
       "      <td>0</td>\n",
       "    </tr>\n",
       "    <tr>\n",
       "      <th>6</th>\n",
       "      <td>True</td>\n",
       "      <td>2021.0</td>\n",
       "      <td>0.119786</td>\n",
       "      <td>0.411865</td>\n",
       "      <td>-0.308487</td>\n",
       "      <td>-0.245237</td>\n",
       "      <td>0.555391</td>\n",
       "      <td>-0.272439</td>\n",
       "      <td>0.751344</td>\n",
       "      <td>-0.128450</td>\n",
       "      <td>-0.534899</td>\n",
       "      <td>-0.461791</td>\n",
       "      <td>0.195954</td>\n",
       "      <td>-0.308487</td>\n",
       "      <td>-0.594768</td>\n",
       "      <td>0</td>\n",
       "    </tr>\n",
       "    <tr>\n",
       "      <th>7</th>\n",
       "      <td>False</td>\n",
       "      <td>2020.0</td>\n",
       "      <td>-0.195306</td>\n",
       "      <td>0.144873</td>\n",
       "      <td>0.004644</td>\n",
       "      <td>0.394512</td>\n",
       "      <td>-0.143055</td>\n",
       "      <td>-0.465132</td>\n",
       "      <td>0.751344</td>\n",
       "      <td>-0.128450</td>\n",
       "      <td>-0.799207</td>\n",
       "      <td>0.285601</td>\n",
       "      <td>0.195954</td>\n",
       "      <td>0.004644</td>\n",
       "      <td>0.285601</td>\n",
       "      <td>0</td>\n",
       "    </tr>\n",
       "    <tr>\n",
       "      <th>8</th>\n",
       "      <td>False</td>\n",
       "      <td>2020.0</td>\n",
       "      <td>0.118926</td>\n",
       "      <td>0.561729</td>\n",
       "      <td>0.296473</td>\n",
       "      <td>0.389670</td>\n",
       "      <td>0.488983</td>\n",
       "      <td>-0.034840</td>\n",
       "      <td>0.751344</td>\n",
       "      <td>-0.128450</td>\n",
       "      <td>-0.515048</td>\n",
       "      <td>0.511269</td>\n",
       "      <td>0.195954</td>\n",
       "      <td>0.296473</td>\n",
       "      <td>0.511269</td>\n",
       "      <td>0</td>\n",
       "    </tr>\n",
       "    <tr>\n",
       "      <th>9</th>\n",
       "      <td>False</td>\n",
       "      <td>2020.0</td>\n",
       "      <td>0.142881</td>\n",
       "      <td>0.411865</td>\n",
       "      <td>0.111753</td>\n",
       "      <td>0.551558</td>\n",
       "      <td>0.488627</td>\n",
       "      <td>-0.040479</td>\n",
       "      <td>0.786686</td>\n",
       "      <td>-0.128450</td>\n",
       "      <td>-0.515048</td>\n",
       "      <td>0.439862</td>\n",
       "      <td>0.195954</td>\n",
       "      <td>0.111753</td>\n",
       "      <td>0.531046</td>\n",
       "      <td>0</td>\n",
       "    </tr>\n",
       "  </tbody>\n",
       "</table>\n",
       "</div>"
      ],
      "text/plain": [
       "   New Job (90 Days)  Year Started  Job Title_embedding  \\\n",
       "0              False        2020.0             0.779540   \n",
       "1              False        2018.0             0.226097   \n",
       "2              False        2018.0             0.319102   \n",
       "3              False        2018.0             0.319102   \n",
       "4               True        2021.0             0.045442   \n",
       "5               True        2021.0             0.319102   \n",
       "6               True        2021.0             0.119786   \n",
       "7              False        2020.0            -0.195306   \n",
       "8              False        2020.0             0.118926   \n",
       "9              False        2020.0             0.142881   \n",
       "\n",
       "   Company Location_embedding  Company Name_embedding  Industry_embedding  \\\n",
       "0                   -1.265540                0.388687            0.551558   \n",
       "1                    0.386156                0.297323           -0.245237   \n",
       "2                    0.064967               -0.190701           -0.245237   \n",
       "3                    0.411865                0.143441           -0.245237   \n",
       "4                    0.626538               -0.285993           -0.245237   \n",
       "5                    0.201492                0.012700           -0.245237   \n",
       "6                    0.411865               -0.308487           -0.245237   \n",
       "7                    0.144873                0.004644            0.394512   \n",
       "8                    0.561729                0.296473            0.389670   \n",
       "9                    0.411865                0.111753            0.551558   \n",
       "\n",
       "   Profile Headline_embedding  Profile Summary_embedding  School_embedding  \\\n",
       "0                    0.568144                  -0.359584          0.569816   \n",
       "1                    0.432931                  -0.648065          0.259484   \n",
       "2                   -0.202704                   0.334044         -0.367105   \n",
       "3                    0.255732                   0.006889          0.751344   \n",
       "4                    0.360941                   0.006889          0.751344   \n",
       "5                   -0.051596                  -0.122784          0.416576   \n",
       "6                    0.555391                  -0.272439          0.751344   \n",
       "7                   -0.143055                  -0.465132          0.751344   \n",
       "8                    0.488983                  -0.034840          0.751344   \n",
       "9                    0.488627                  -0.040479          0.786686   \n",
       "\n",
       "   Degree_embedding  Education End_embedding  Field of Study_embedding  \\\n",
       "0         -0.616228                -0.534899                  0.078564   \n",
       "1         -0.616228                -0.534899                 -0.594768   \n",
       "2         -0.616228                -0.534899                  0.145754   \n",
       "3         -0.128450                -0.534899                 -0.226775   \n",
       "4         -0.128450                -0.515048                 -0.226775   \n",
       "5         -0.128450                -0.515048                  0.658242   \n",
       "6         -0.128450                -0.534899                 -0.461791   \n",
       "7         -0.128450                -0.799207                  0.285601   \n",
       "8         -0.128450                -0.515048                  0.511269   \n",
       "9         -0.128450                -0.515048                  0.439862   \n",
       "\n",
       "   Domain_embedding  CompanyName_embedding  FieldOfStudy_embedding  \\\n",
       "0          0.195954               0.388687                0.661440   \n",
       "1          0.195954               0.297323               -0.594768   \n",
       "2          0.195954              -0.190701               -0.594768   \n",
       "3          0.195954               0.143441               -0.594768   \n",
       "4          0.195954              -0.285993               -0.594768   \n",
       "5          0.195954               0.012700                0.661440   \n",
       "6          0.195954              -0.308487               -0.594768   \n",
       "7          0.195954               0.004644                0.285601   \n",
       "8          0.195954               0.296473                0.511269   \n",
       "9          0.195954               0.111753                0.531046   \n",
       "\n",
       "   cluster_label  \n",
       "0              0  \n",
       "1              0  \n",
       "2              0  \n",
       "3              0  \n",
       "4              0  \n",
       "5              0  \n",
       "6              0  \n",
       "7              0  \n",
       "8              0  \n",
       "9              0  "
      ]
     },
     "execution_count": 82,
     "metadata": {},
     "output_type": "execute_result"
    }
   ],
   "source": [
    "df1.head(10)"
   ]
  },
  {
   "cell_type": "code",
   "execution_count": 83,
   "metadata": {
    "colab": {
     "base_uri": "https://localhost:8080/"
    },
    "id": "2Qpccxt00JAf",
    "outputId": "fc202183-6a9f-4a58-8a3f-db69f6bcdbb9"
   },
   "outputs": [
    {
     "data": {
      "text/plain": [
       "0    4816\n",
       "1      94\n",
       "Name: cluster_label, dtype: int64"
      ]
     },
     "execution_count": 83,
     "metadata": {},
     "output_type": "execute_result"
    }
   ],
   "source": [
    "df1['cluster_label'].value_counts()"
   ]
  },
  {
   "cell_type": "code",
   "execution_count": null,
   "metadata": {},
   "outputs": [],
   "source": []
  }
 ],
 "metadata": {
  "colab": {
   "collapsed_sections": [],
   "name": "Clustering",
   "provenance": []
  },
  "kernelspec": {
   "display_name": "Python 3",
   "language": "python",
   "name": "python3"
  },
  "language_info": {
   "codemirror_mode": {
    "name": "ipython",
    "version": 3
   },
   "file_extension": ".py",
   "mimetype": "text/x-python",
   "name": "python",
   "nbconvert_exporter": "python",
   "pygments_lexer": "ipython3",
   "version": "3.8.3"
  }
 },
 "nbformat": 4,
 "nbformat_minor": 1
}
